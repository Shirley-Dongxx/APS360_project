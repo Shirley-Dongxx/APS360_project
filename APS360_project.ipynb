{
  "nbformat": 4,
  "nbformat_minor": 0,
  "metadata": {
    "colab": {
      "name": "APS360_project.ipynb",
      "provenance": [],
      "authorship_tag": "ABX9TyOP/kOvZhoq2KdkP1MXyzw+",
      "include_colab_link": true
    },
    "kernelspec": {
      "name": "python3",
      "display_name": "Python 3"
    }
  },
  "cells": [
    {
      "cell_type": "markdown",
      "metadata": {
        "id": "view-in-github",
        "colab_type": "text"
      },
      "source": [
        "<a href=\"https://colab.research.google.com/github/Shirley-Dongxx/APS360_project/blob/main/APS360_project.ipynb\" target=\"_parent\"><img src=\"https://colab.research.google.com/assets/colab-badge.svg\" alt=\"Open In Colab\"/></a>"
      ]
    },
    {
      "cell_type": "markdown",
      "metadata": {
        "id": "jPG3l2m37qqc"
      },
      "source": [
        "# APS360 Project: Facial Age Progression and Regression\r\n",
        "\r\n",
        "\r\n",
        "---\r\n",
        "Contents to be added:\r\n",
        "\r\n",
        "\r\n",
        "*   Image Preprocessing\r\n",
        "*   CAAE Architecture\r\n",
        "*   GAN Architecture\r\n",
        "*   Baseline (optional)\r\n",
        "\r\n",
        "\r\n"
      ]
    },
    {
      "cell_type": "markdown",
      "metadata": {
        "id": "kCtAwlUF8Nf7"
      },
      "source": [
        "## Data Preprocessing\r\n",
        "\r\n",
        "\r\n",
        "\r\n",
        "*   Dataset used: The IMDB-WIKI dataset (only the WIKI set will be used)\r\n",
        "*   Download the WIKI face only dataset at: https://data.vision.ee.ethz.ch/cvl/rrothe/imdb-wiki/\r\n",
        "\r\n"
      ]
    },
    {
      "cell_type": "markdown",
      "metadata": {
        "id": "4W-GV-_Y9b-R"
      },
      "source": [
        "### Import data from Google Drive"
      ]
    },
    {
      "cell_type": "code",
      "metadata": {
        "id": "LTzExM0E9hUP"
      },
      "source": [
        "from google.colab import drive\r\n",
        "drive.mount('/content/gdrive')"
      ],
      "execution_count": null,
      "outputs": []
    },
    {
      "cell_type": "markdown",
      "metadata": {
        "id": "F2pN95DR9o4T"
      },
      "source": [
        "### Load the image into different datasets with labels"
      ]
    },
    {
      "cell_type": "code",
      "metadata": {
        "id": "efpqZMpo7p85"
      },
      "source": [
        ""
      ],
      "execution_count": null,
      "outputs": []
    }
  ]
}