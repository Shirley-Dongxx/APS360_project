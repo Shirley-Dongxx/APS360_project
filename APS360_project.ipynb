{
  "nbformat": 4,
  "nbformat_minor": 0,
  "metadata": {
    "colab": {
      "name": "APS360_project.ipynb",
      "provenance": [],
      "toc_visible": true,
      "authorship_tag": "ABX9TyMDPUMfCUjJNyPYM1yl/Q/X",
      "include_colab_link": true
    },
    "kernelspec": {
      "name": "python3",
      "display_name": "Python 3"
    }
  },
  "cells": [
    {
      "cell_type": "markdown",
      "metadata": {
        "id": "view-in-github",
        "colab_type": "text"
      },
      "source": [
        "<a href=\"https://colab.research.google.com/github/Shirley-Dongxx/APS360_project/blob/main/APS360_project.ipynb\" target=\"_parent\"><img src=\"https://colab.research.google.com/assets/colab-badge.svg\" alt=\"Open In Colab\"/></a>"
      ]
    },
    {
      "cell_type": "markdown",
      "metadata": {
        "id": "jPG3l2m37qqc"
      },
      "source": [
        "# APS360 Project: Facial Age Progression and Regression\r\n",
        "\r\n",
        "\r\n",
        "---\r\n",
        "Contents to be added:\r\n",
        "\r\n",
        "\r\n",
        "*   Image Preprocessing\r\n",
        "*   CAAE Architecture\r\n",
        "*   GAN Architecture\r\n",
        "*   Baseline (optional)\r\n",
        "\r\n",
        "\r\n"
      ]
    },
    {
      "cell_type": "markdown",
      "metadata": {
        "id": "kCtAwlUF8Nf7"
      },
      "source": [
        "## Data Preprocessing\r\n",
        "\r\n",
        "\r\n",
        "\r\n",
        "*   Dataset used: The IMDB-WIKI dataset (only the WIKI set will be used)\r\n",
        "*   Download the WIKI face only dataset at: https://data.vision.ee.ethz.ch/cvl/rrothe/imdb-wiki/\r\n",
        "\r\n"
      ]
    },
    {
      "cell_type": "markdown",
      "metadata": {
        "id": "4W-GV-_Y9b-R"
      },
      "source": [
        "### Import data from Google Drive"
      ]
    },
    {
      "cell_type": "code",
      "metadata": {
        "id": "LTzExM0E9hUP",
        "colab": {
          "base_uri": "https://localhost:8080/"
        },
        "outputId": "cebd7806-aac4-4c76-f1c6-580502f57d93"
      },
      "source": [
        "from google.colab import drive\r\n",
        "drive.mount('/content/gdrive')"
      ],
      "execution_count": 1,
      "outputs": [
        {
          "output_type": "stream",
          "text": [
            "Mounted at /content/gdrive\n"
          ],
          "name": "stdout"
        }
      ]
    },
    {
      "cell_type": "markdown",
      "metadata": {
        "id": "ZBN9Oobe2J3x"
      },
      "source": [
        "### Load the mat file of the Wiki dataset\r\n"
      ]
    },
    {
      "cell_type": "markdown",
      "metadata": {
        "id": "FWcngRun4kV8"
      },
      "source": [
        "**Reference**\r\n",
        "\r\n",
        "@article\\\r\n",
        "{Rothe-IJCV-2018,\r\n",
        "  author = {Rasmus Rothe and Radu Timofte and Luc Van Gool},\\\r\n",
        "  title = {Deep expectation of real and apparent age from a single \r\n",
        "  image without facial landmarks},\\\r\n",
        "  journal = {International Journal of Computer Vision},\\\r\n",
        "  volume={126},\\\r\n",
        "  number={2-4},\\\r\n",
        "  pages={144--157},\\\r\n",
        "  year={2018},\\\r\n",
        "  publisher={Springer}\r\n",
        "}\r\n",
        "\r\n",
        "@InProceedings\\\r\n",
        "{Rothe-ICCVW-2015,\\\r\n",
        "  author = {Rasmus Rothe and Radu Timofte and Luc Van Gool},\\\r\n",
        "  title = {DEX: Deep EXpectation of apparent age from a single image},\\\r\n",
        "  booktitle = {IEEE International Conference on Computer Vision Workshops (ICCVW)},\\\r\n",
        "  year = {2015}, \\\r\n",
        "  month = {December},\\\r\n",
        "}\r\n",
        "\r\n"
      ]
    },
    {
      "cell_type": "code",
      "metadata": {
        "id": "Nqt0uJCm2PVf"
      },
      "source": [
        "from datetime import datetime, timedelta\r\n",
        "from scipy.io import loadmat\r\n",
        "import numpy as np\r\n",
        "import pandas as pd\r\n",
        "import scipy"
      ],
      "execution_count": 2,
      "outputs": []
    },
    {
      "cell_type": "code",
      "metadata": {
        "id": "LY9MCbLK2scT"
      },
      "source": [
        "# convert the matlab styled date to number\r\n",
        "def matlab_datenum_to_dt(matlab_datenum):\r\n",
        "    return datetime.fromordinal(int(matlab_datenum) - 366) + timedelta(days=int(matlab_datenum % 1))"
      ],
      "execution_count": 3,
      "outputs": []
    },
    {
      "cell_type": "code",
      "metadata": {
        "colab": {
          "base_uri": "https://localhost:8080/"
        },
        "id": "GiPDfxCD3aKF",
        "outputId": "cd435b6e-5019-4434-c29c-9993536423c9"
      },
      "source": [
        "# load wiki metadata\r\n",
        "# Modified from https://gist.github.com/messefor/e2ee5fe1c18a040c90bbf91f2ee279e3\r\n",
        "\r\n",
        "def load_wiki_meta():\r\n",
        "\r\n",
        "    # Please change to your own path when testing!\r\n",
        "    file_path = \"/content/gdrive/MyDrive/APS360_project/wiki.mat\"\r\n",
        "    save_path = \"/content/gdrive/MyDrive/APS360_project/wiki.pkl\"\r\n",
        "\r\n",
        "    mat = loadmat(file_path)\r\n",
        "\r\n",
        "    print(\"Data header:\",mat['__header__'])\r\n",
        "    print(\"Data Version:\",mat['__version__'])\r\n",
        "\r\n",
        "    # Extract values\r\n",
        "    data = mat['wiki'][0, 0]\r\n",
        "    print(\"Column names are: \", data.dtype.names)\r\n",
        "\r\n",
        "    # Data loaded in simple form\r\n",
        "    col_keys = ('dob', 'photo_taken', 'gender', 'face_location', 'face_score', 'second_face_score')\r\n",
        "    col_values = {k: data[k].squeeze() for k in col_keys}\r\n",
        "\r\n",
        "    # Data loaded into numpy arrays\r\n",
        "    col_keys_nested = ('full_path', 'name')\r\n",
        "    for key in col_keys_nested:\r\n",
        "        col_values[key] = np.array([x if not x else x[0] for x in data[key][0]])\r\n",
        "    #print(col_values['name'][5])\r\n",
        "\r\n",
        "    # Convert face location to DataFrame\r\n",
        "    # Inputs:\r\n",
        "    #    img - image (i.e. load with imread)\r\n",
        "    #    box - location of face (i.e. img(box(2):box(4),box(1):box(3),:))\r\n",
        "    #    crop_margin - margin around face as a fraction of the width, height\r\n",
        "    #    [left above right below], default is [0.4 0.4 0.4 0.4]\r\n",
        "    col_values['face_location'] =[tuple(x[0].tolist()) for x in data['face_location'].squeeze()]\r\n",
        "\r\n",
        "    # Check all values extracted have same length\r\n",
        "    set_nrows = {len(v) for _, v in col_values.items()}\r\n",
        "    assert len(set_nrows) == 1\r\n",
        "\r\n",
        "    # convert to panda data frame\r\n",
        "    df_values = pd.DataFrame(col_values)\r\n",
        "\r\n",
        "    # Convert matlab datenum to datetime\r\n",
        "    df_values['dob'] = df_values['dob'].apply(matlab_datenum_to_dt)\r\n",
        "\r\n",
        "    # Calculate ages when photo was taken\r\n",
        "    df_values['photo_taken_age'] = df_values.apply(lambda x: x['photo_taken'] - x['dob'].year, axis=1)\r\n",
        "\r\n",
        "    # Concat all together and save\r\n",
        "    # Do not use csv format to work around tuple to be string\r\n",
        "    df_values.to_pickle(save_path)\r\n",
        "\r\n",
        "load_wiki_meta()"
      ],
      "execution_count": 15,
      "outputs": [
        {
          "output_type": "stream",
          "text": [
            "Data header: b'MATLAB 5.0 MAT-file, Platform: GLNXA64, Created on: Sat Jan 16 16:25:20 2016'\n",
            "Data Version: 1.0\n",
            "Column names are:  ('dob', 'photo_taken', 'full_path', 'gender', 'name', 'face_location', 'face_score', 'second_face_score')\n"
          ],
          "name": "stdout"
        },
        {
          "output_type": "stream",
          "text": [
            "/usr/local/lib/python3.7/dist-packages/ipykernel_launcher.py:26: DeprecationWarning: The truth value of an empty array is ambiguous. Returning False, but in future this will result in an error. Use `array.size > 0` to check that an array is not empty.\n",
            "/usr/local/lib/python3.7/dist-packages/ipykernel_launcher.py:26: VisibleDeprecationWarning: Creating an ndarray from ragged nested sequences (which is a list-or-tuple of lists-or-tuples-or ndarrays with different lengths or shapes) is deprecated. If you meant to do this, you must specify 'dtype=object' when creating the ndarray\n"
          ],
          "name": "stderr"
        }
      ]
    },
    {
      "cell_type": "markdown",
      "metadata": {
        "id": "F2pN95DR9o4T"
      },
      "source": [
        "### Load the image into different datasets with labels"
      ]
    },
    {
      "cell_type": "code",
      "metadata": {
        "id": "efpqZMpo7p85"
      },
      "source": [
        ""
      ],
      "execution_count": null,
      "outputs": []
    }
  ]
}